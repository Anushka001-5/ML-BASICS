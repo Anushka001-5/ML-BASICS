{
 "cells": [
  {
   "cell_type": "code",
   "execution_count": 116,
   "id": "1eb3e5d1-fb61-42bb-9335-06bd5868ecc7",
   "metadata": {},
   "outputs": [],
   "source": [
    "import pandas as pd\n",
    "import numpy as np\n",
    "import seaborn as sns\n",
    "import matplotlib.pyplot as plt"
   ]
  },
  {
   "cell_type": "code",
   "execution_count": 117,
   "id": "e24d65d5-d368-469f-917e-878cf994a217",
   "metadata": {},
   "outputs": [
    {
     "data": {
      "text/html": [
       "<div>\n",
       "<style scoped>\n",
       "    .dataframe tbody tr th:only-of-type {\n",
       "        vertical-align: middle;\n",
       "    }\n",
       "\n",
       "    .dataframe tbody tr th {\n",
       "        vertical-align: top;\n",
       "    }\n",
       "\n",
       "    .dataframe thead th {\n",
       "        text-align: right;\n",
       "    }\n",
       "</style>\n",
       "<table border=\"1\" class=\"dataframe\">\n",
       "  <thead>\n",
       "    <tr style=\"text-align: right;\">\n",
       "      <th></th>\n",
       "      <th>Order ID</th>\n",
       "      <th>Amount</th>\n",
       "      <th>Profit</th>\n",
       "      <th>Quantity</th>\n",
       "      <th>Category</th>\n",
       "      <th>Sub-Category</th>\n",
       "      <th>PaymentMode</th>\n",
       "      <th>Order Date</th>\n",
       "      <th>CustomerName</th>\n",
       "      <th>State</th>\n",
       "      <th>City</th>\n",
       "      <th>Year-Month</th>\n",
       "    </tr>\n",
       "  </thead>\n",
       "  <tbody>\n",
       "    <tr>\n",
       "      <th>0</th>\n",
       "      <td>B-26776</td>\n",
       "      <td>9726</td>\n",
       "      <td>1275</td>\n",
       "      <td>5</td>\n",
       "      <td>Electronics</td>\n",
       "      <td>Electronic Games</td>\n",
       "      <td>UPI</td>\n",
       "      <td>2023-06-27</td>\n",
       "      <td>David Padilla</td>\n",
       "      <td>Florida</td>\n",
       "      <td>Miami</td>\n",
       "      <td>2023-06</td>\n",
       "    </tr>\n",
       "    <tr>\n",
       "      <th>1</th>\n",
       "      <td>B-26776</td>\n",
       "      <td>9726</td>\n",
       "      <td>1275</td>\n",
       "      <td>5</td>\n",
       "      <td>Electronics</td>\n",
       "      <td>Electronic Games</td>\n",
       "      <td>UPI</td>\n",
       "      <td>2024-12-27</td>\n",
       "      <td>Connor Morgan</td>\n",
       "      <td>Illinois</td>\n",
       "      <td>Chicago</td>\n",
       "      <td>2024-12</td>\n",
       "    </tr>\n",
       "    <tr>\n",
       "      <th>2</th>\n",
       "      <td>B-26776</td>\n",
       "      <td>9726</td>\n",
       "      <td>1275</td>\n",
       "      <td>5</td>\n",
       "      <td>Electronics</td>\n",
       "      <td>Electronic Games</td>\n",
       "      <td>UPI</td>\n",
       "      <td>2021-07-25</td>\n",
       "      <td>Robert Stone</td>\n",
       "      <td>New York</td>\n",
       "      <td>Buffalo</td>\n",
       "      <td>2021-07</td>\n",
       "    </tr>\n",
       "    <tr>\n",
       "      <th>3</th>\n",
       "      <td>B-26776</td>\n",
       "      <td>4975</td>\n",
       "      <td>1330</td>\n",
       "      <td>14</td>\n",
       "      <td>Electronics</td>\n",
       "      <td>Printers</td>\n",
       "      <td>UPI</td>\n",
       "      <td>2023-06-27</td>\n",
       "      <td>David Padilla</td>\n",
       "      <td>Florida</td>\n",
       "      <td>Miami</td>\n",
       "      <td>2023-06</td>\n",
       "    </tr>\n",
       "    <tr>\n",
       "      <th>4</th>\n",
       "      <td>B-26776</td>\n",
       "      <td>4975</td>\n",
       "      <td>1330</td>\n",
       "      <td>14</td>\n",
       "      <td>Electronics</td>\n",
       "      <td>Printers</td>\n",
       "      <td>UPI</td>\n",
       "      <td>2024-12-27</td>\n",
       "      <td>Connor Morgan</td>\n",
       "      <td>Illinois</td>\n",
       "      <td>Chicago</td>\n",
       "      <td>2024-12</td>\n",
       "    </tr>\n",
       "  </tbody>\n",
       "</table>\n",
       "</div>"
      ],
      "text/plain": [
       "  Order ID  Amount  Profit  Quantity     Category      Sub-Category  \\\n",
       "0  B-26776    9726    1275         5  Electronics  Electronic Games   \n",
       "1  B-26776    9726    1275         5  Electronics  Electronic Games   \n",
       "2  B-26776    9726    1275         5  Electronics  Electronic Games   \n",
       "3  B-26776    4975    1330        14  Electronics          Printers   \n",
       "4  B-26776    4975    1330        14  Electronics          Printers   \n",
       "\n",
       "  PaymentMode  Order Date   CustomerName     State     City Year-Month  \n",
       "0         UPI  2023-06-27  David Padilla   Florida    Miami    2023-06  \n",
       "1         UPI  2024-12-27  Connor Morgan  Illinois  Chicago    2024-12  \n",
       "2         UPI  2021-07-25   Robert Stone  New York  Buffalo    2021-07  \n",
       "3         UPI  2023-06-27  David Padilla   Florida    Miami    2023-06  \n",
       "4         UPI  2024-12-27  Connor Morgan  Illinois  Chicago    2024-12  "
      ]
     },
     "execution_count": 117,
     "metadata": {},
     "output_type": "execute_result"
    }
   ],
   "source": [
    "df1=pd.read_csv('Sales Dataset.csv')\n",
    "df1.head()"
   ]
  },
  {
   "cell_type": "code",
   "execution_count": 118,
   "id": "00188296-9562-44b1-88d9-48e676fdff95",
   "metadata": {},
   "outputs": [
    {
     "name": "stdout",
     "output_type": "stream",
     "text": [
      "<class 'pandas.core.frame.DataFrame'>\n",
      "RangeIndex: 1194 entries, 0 to 1193\n",
      "Data columns (total 12 columns):\n",
      " #   Column        Non-Null Count  Dtype \n",
      "---  ------        --------------  ----- \n",
      " 0   Order ID      1194 non-null   object\n",
      " 1   Amount        1194 non-null   int64 \n",
      " 2   Profit        1194 non-null   int64 \n",
      " 3   Quantity      1194 non-null   int64 \n",
      " 4   Category      1194 non-null   object\n",
      " 5   Sub-Category  1194 non-null   object\n",
      " 6   PaymentMode   1194 non-null   object\n",
      " 7   Order Date    1194 non-null   object\n",
      " 8   CustomerName  1194 non-null   object\n",
      " 9   State         1194 non-null   object\n",
      " 10  City          1194 non-null   object\n",
      " 11  Year-Month    1194 non-null   object\n",
      "dtypes: int64(3), object(9)\n",
      "memory usage: 112.1+ KB\n"
     ]
    }
   ],
   "source": [
    "df1.info()"
   ]
  },
  {
   "cell_type": "code",
   "execution_count": 119,
   "id": "fe96c7e5-fece-498c-a291-0cccd525ac1b",
   "metadata": {},
   "outputs": [
    {
     "data": {
      "text/plain": [
       "(1194, 12)"
      ]
     },
     "execution_count": 119,
     "metadata": {},
     "output_type": "execute_result"
    }
   ],
   "source": [
    "df1.shape"
   ]
  },
  {
   "cell_type": "code",
   "execution_count": 120,
   "id": "ecd3a25f-3dd1-4724-b35a-6ade0257ba1e",
   "metadata": {},
   "outputs": [
    {
     "data": {
      "text/plain": [
       "array(['Miami', 'Chicago', 'Buffalo', 'Orlando', 'Los Angeles',\n",
       "       'New York City', 'Springfield', 'Rochester', 'Dallas', 'San Diego',\n",
       "       'Austin', 'San Francisco', 'Columbus', 'Cincinnati', 'Cleveland',\n",
       "       'Houston', 'Tampa', 'Peoria'], dtype=object)"
      ]
     },
     "execution_count": 120,
     "metadata": {},
     "output_type": "execute_result"
    }
   ],
   "source": [
    "df1['City'].unique()"
   ]
  },
  {
   "cell_type": "code",
   "execution_count": 121,
   "id": "293df156-0c0e-4630-8223-0dc0c66c2fe0",
   "metadata": {},
   "outputs": [
    {
     "data": {
      "text/plain": [
       "array(['Electronics', 'Office Supplies', 'Furniture'], dtype=object)"
      ]
     },
     "execution_count": 121,
     "metadata": {},
     "output_type": "execute_result"
    }
   ],
   "source": [
    "df1['Category'].unique()"
   ]
  },
  {
   "cell_type": "code",
   "execution_count": 122,
   "id": "307562e9-7ac6-4826-b4ec-32713cef2d65",
   "metadata": {},
   "outputs": [
    {
     "data": {
      "text/plain": [
       "array(['UPI', 'Debit Card', 'EMI', 'Credit Card', 'COD'], dtype=object)"
      ]
     },
     "execution_count": 122,
     "metadata": {},
     "output_type": "execute_result"
    }
   ],
   "source": [
    "df1['PaymentMode'].unique()"
   ]
  },
  {
   "cell_type": "code",
   "execution_count": 123,
   "id": "196221e0-aa48-4b43-903b-c25f0b5580eb",
   "metadata": {},
   "outputs": [],
   "source": [
    "# df1['CustomerName'].unique()"
   ]
  },
  {
   "cell_type": "code",
   "execution_count": 124,
   "id": "52d5eea5-0315-461d-9313-a7097a63e5a8",
   "metadata": {},
   "outputs": [
    {
     "data": {
      "text/plain": [
       "Order ID        0\n",
       "Amount          0\n",
       "Profit          0\n",
       "Quantity        0\n",
       "Category        0\n",
       "Sub-Category    0\n",
       "PaymentMode     0\n",
       "Order Date      0\n",
       "CustomerName    0\n",
       "State           0\n",
       "City            0\n",
       "Year-Month      0\n",
       "dtype: int64"
      ]
     },
     "execution_count": 124,
     "metadata": {},
     "output_type": "execute_result"
    }
   ],
   "source": [
    "df1.isna().sum()"
   ]
  },
  {
   "cell_type": "code",
   "execution_count": 125,
   "id": "3eb2af34-851c-4475-9ab8-dd0821b931a4",
   "metadata": {},
   "outputs": [
    {
     "data": {
      "text/plain": [
       "0"
      ]
     },
     "execution_count": 125,
     "metadata": {},
     "output_type": "execute_result"
    }
   ],
   "source": [
    "df1.isna().sum().sum()"
   ]
  },
  {
   "cell_type": "code",
   "execution_count": 126,
   "id": "ac84c7c5-3aa1-453f-b054-f4c62891e7cb",
   "metadata": {},
   "outputs": [
    {
     "data": {
      "image/png": "[encoded data removed]",
      "text/plain": [
       "<Figure size 640x480 with 1 Axes>"
      ]
     },
     "metadata": {},
     "output_type": "display_data"
    },
    {
     "data": {
      "image/png": "[encoded data removed]",
      "text/plain": [
       "<Figure size 640x480 with 1 Axes>"
      ]
     },
     "metadata": {},
     "output_type": "display_data"
    },
    {
     "data": {
      "image/png": "[encoded data removed]",
      "text/plain": [
       "<Figure size 640x480 with 1 Axes>"
      ]
     },
     "metadata": {},
     "output_type": "display_data"
    }
   ],
   "source": [
    "df1.columns\n",
    "for i in df1.columns:\n",
    "    if df1[i].dtype!='object':\n",
    "        sns.boxplot(df1[i])\n",
    "        plt.xlabel(i)\n",
    "        plt.ylabel('range')\n",
    "        plt.title(i)\n",
    "        plt.show()"
   ]
  },
  {
   "cell_type": "code",
   "execution_count": 127,
   "id": "2353c468-9eeb-4662-8d61-35bd8bb32a06",
   "metadata": {},
   "outputs": [],
   "source": [
    "    # Q1=df1['Profit'].quantile(0.25)\n",
    "    # Q3=df1['Profit'].quantile(0.75)\n",
    "    # IQR=Q3-Q1\n",
    "    # LF=Q1-1.5*IQR\n",
    "    # UF=Q3+1.5*IQR\n",
    "    # df1=df1[(df1['Profit']>=LF) & (df1['Profit']<=UF)]"
   ]
  },
  {
   "cell_type": "code",
   "execution_count": 128,
   "id": "5dd7f423-6e6e-4e8b-8fad-ae4756886042",
   "metadata": {},
   "outputs": [],
   "source": [
    "# df1.shape"
   ]
  },
  {
   "cell_type": "code",
   "execution_count": 129,
   "id": "7ef56917-4cad-4774-b666-0b4a80c28b93",
   "metadata": {},
   "outputs": [
    {
     "name": "stdout",
     "output_type": "stream",
     "text": [
      "0       0.066211\n",
      "1       0.066211\n",
      "2       0.066211\n",
      "3       0.016995\n",
      "4       0.016995\n",
      "          ...   \n",
      "1189    2.008912\n",
      "1190    0.632642\n",
      "1191    0.632642\n",
      "1192    0.632642\n",
      "1193    1.061268\n",
      "Name: Profit, Length: 1194, dtype: float64\n"
     ]
    }
   ],
   "source": [
    "from scipy import stats\n",
    "import numpy as np\n",
    "z=np.abs(stats.zscore(df1['Profit']))\n",
    "print(z)"
   ]
  },
  {
   "cell_type": "code",
   "execution_count": 130,
   "id": "5e28967b-d48a-45fa-bca7-26b21e52c3fd",
   "metadata": {},
   "outputs": [
    {
     "name": "stdout",
     "output_type": "stream",
     "text": [
      "    Order ID  Amount  Profit  Quantity         Category Sub-Category  \\\n",
      "189  B-25901    9883    4812        16  Office Supplies        Paper   \n",
      "190  B-25901    9883    4812        16  Office Supplies        Paper   \n",
      "191  B-25901    9883    4812        16  Office Supplies        Paper   \n",
      "834  B-26357    9879    4930        15      Electronics      Laptops   \n",
      "\n",
      "    PaymentMode  Order Date       CustomerName     State         City  \\\n",
      "189         UPI  2020-10-20  Jeffrey Middleton  New York      Buffalo   \n",
      "190         UPI  2022-08-11    Veronica Kelley   Florida      Orlando   \n",
      "191         UPI  2021-10-17        Leslie Bean  Illinois  Springfield   \n",
      "834  Debit Card  2023-06-08     Brandi Vasquez  New York    Rochester   \n",
      "\n",
      "    Year-Month  \n",
      "189    2020-10  \n",
      "190    2022-08  \n",
      "191    2021-10  \n",
      "834    2023-06  \n"
     ]
    }
   ],
   "source": [
    "threshold=3\n",
    "outliers=df1[z > threshold]\n",
    "print(outliers)"
   ]
  },
  {
   "cell_type": "code",
   "execution_count": 133,
   "id": "792a0bc2-53a7-4c86-b80a-16c5b9c53b3d",
   "metadata": {},
   "outputs": [],
   "source": [
    "# # drop outliers\n",
    "# df1=df1.drop(outliers.index)"
   ]
  },
  {
   "cell_type": "code",
   "execution_count": 134,
   "id": "3817e106-feb6-4931-b08e-8045f6656850",
   "metadata": {},
   "outputs": [],
   "source": [
    "# df1.shape"
   ]
  },
  {
   "cell_type": "code",
   "execution_count": 137,
   "id": "bde83556-732e-4c3e-b9a1-9918fca0b357",
   "metadata": {},
   "outputs": [],
   "source": [
    "# replace outliers with median value\n",
    "df1.loc[z > threshold, 'Profit'] = df1['Profit'].median()"
   ]
  },
  {
   "cell_type": "code",
   "execution_count": 138,
   "id": "2cd65821-17c6-4096-8a91-569456397084",
   "metadata": {},
   "outputs": [
    {
     "data": {
      "text/plain": [
       "(1190, 12)"
      ]
     },
     "execution_count": 138,
     "metadata": {},
     "output_type": "execute_result"
    }
   ],
   "source": [
    "df1.shape"
   ]
  },
  {
   "cell_type": "code",
   "execution_count": null,
   "id": "0c63d915-2c9c-4c7e-b2a3-381a883f3f46",
   "metadata": {},
   "outputs": [],
   "source": []
  }
 ],
 "metadata": {
  "kernelspec": {
   "display_name": "Python 3 (ipykernel)",
   "language": "python",
   "name": "python3"
  },
  "language_info": {
   "codemirror_mode": {
    "name": "ipython",
    "version": 3
   },
   "file_extension": ".py",
   "mimetype": "text/x-python",
   "name": "python",
   "nbconvert_exporter": "python",
   "pygments_lexer": "ipython3",
   "version": "3.12.7"
  }
 },
 "nbformat": 4,
 "nbformat_minor": 5
}
